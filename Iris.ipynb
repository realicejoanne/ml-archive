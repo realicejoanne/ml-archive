{
  "nbformat": 4,
  "nbformat_minor": 0,
  "metadata": {
    "colab": {
      "name": "Iris.ipynb",
      "version": "0.3.2",
      "provenance": [],
      "collapsed_sections": [],
      "include_colab_link": true
    },
    "kernelspec": {
      "name": "python3",
      "display_name": "Python 3"
    }
  },
  "cells": [
    {
      "cell_type": "markdown",
      "metadata": {
        "id": "view-in-github",
        "colab_type": "text"
      },
      "source": [
        "<a href=\"https://colab.research.google.com/github/realicejoanne/ml-archive/blob/master/Iris.ipynb\" target=\"_parent\"><img src=\"https://colab.research.google.com/assets/colab-badge.svg\" alt=\"Open In Colab\"/></a>"
      ]
    },
    {
      "cell_type": "code",
      "metadata": {
        "id": "3B0eFZcOdLOU",
        "colab_type": "code",
        "outputId": "a4ab5033-dfc2-4308-9ddf-10a44fb0e08e",
        "colab": {
          "base_uri": "https://localhost:8080/",
          "height": 132
        }
      },
      "source": [
        "from google.colab import drive\n",
        "drive.mount('/content/drive')"
      ],
      "execution_count": 0,
      "outputs": [
        {
          "output_type": "stream",
          "text": [
            "Go to this URL in a browser: https://accounts.google.com/o/oauth2/auth?client_id=947318989803-6bn6qk8qdgf4n4g3pfee6491hc0brc4i.apps.googleusercontent.com&redirect_uri=urn%3Aietf%3Awg%3Aoauth%3A2.0%3Aoob&scope=email%20https%3A%2F%2Fwww.googleapis.com%2Fauth%2Fdocs.test%20https%3A%2F%2Fwww.googleapis.com%2Fauth%2Fdrive%20https%3A%2F%2Fwww.googleapis.com%2Fauth%2Fdrive.photos.readonly%20https%3A%2F%2Fwww.googleapis.com%2Fauth%2Fpeopleapi.readonly&response_type=code\n",
            "\n",
            "Enter your authorization code:\n",
            "··········\n",
            "Mounted at /content/drive\n"
          ],
          "name": "stdout"
        }
      ]
    },
    {
      "cell_type": "code",
      "metadata": {
        "id": "WU2hlEH9iQwq",
        "colab_type": "code",
        "outputId": "8e282623-ecc5-4508-c43e-aa4b2baa8b94",
        "colab": {
          "base_uri": "https://localhost:8080/",
          "height": 1000
        }
      },
      "source": [
        "import pandas as pd\n",
        "data = pd.read_csv('/content/drive/My Drive/Colab Notebooks/iris.csv')\n",
        "print (data)"
      ],
      "execution_count": 0,
      "outputs": [
        {
          "output_type": "stream",
          "text": [
            "     sepal_length  sepal_width  petal_length  petal_width           class\n",
            "0             5.1          3.5           1.4          0.2     Iris-setosa\n",
            "1             4.9          3.0           1.4          0.2     Iris-setosa\n",
            "2             4.7          3.2           1.3          0.2     Iris-setosa\n",
            "3             4.6          3.1           1.5          0.2     Iris-setosa\n",
            "4             5.0          3.6           1.4          0.2     Iris-setosa\n",
            "5             5.4          3.9           1.7          0.4     Iris-setosa\n",
            "6             4.6          3.4           1.4          0.3     Iris-setosa\n",
            "7             5.0          3.4           1.5          0.2     Iris-setosa\n",
            "8             4.4          2.9           1.4          0.2     Iris-setosa\n",
            "9             4.9          3.1           1.5          0.1     Iris-setosa\n",
            "10            5.4          3.7           1.5          0.2     Iris-setosa\n",
            "11            4.8          3.4           1.6          0.2     Iris-setosa\n",
            "12            4.8          3.0           1.4          0.1     Iris-setosa\n",
            "13            4.3          3.0           1.1          0.1     Iris-setosa\n",
            "14            5.8          4.0           1.2          0.2     Iris-setosa\n",
            "15            5.7          4.4           1.5          0.4     Iris-setosa\n",
            "16            5.4          3.9           1.3          0.4     Iris-setosa\n",
            "17            5.1          3.5           1.4          0.3     Iris-setosa\n",
            "18            5.7          3.8           1.7          0.3     Iris-setosa\n",
            "19            5.1          3.8           1.5          0.3     Iris-setosa\n",
            "20            5.4          3.4           1.7          0.2     Iris-setosa\n",
            "21            5.1          3.7           1.5          0.4     Iris-setosa\n",
            "22            4.6          3.6           1.0          0.2     Iris-setosa\n",
            "23            5.1          3.3           1.7          0.5     Iris-setosa\n",
            "24            4.8          3.4           1.9          0.2     Iris-setosa\n",
            "25            5.0          3.0           1.6          0.2     Iris-setosa\n",
            "26            5.0          3.4           1.6          0.4     Iris-setosa\n",
            "27            5.2          3.5           1.5          0.2     Iris-setosa\n",
            "28            5.2          3.4           1.4          0.2     Iris-setosa\n",
            "29            4.7          3.2           1.6          0.2     Iris-setosa\n",
            "..            ...          ...           ...          ...             ...\n",
            "120           6.9          3.2           5.7          2.3  Iris-virginica\n",
            "121           5.6          2.8           4.9          2.0  Iris-virginica\n",
            "122           7.7          2.8           6.7          2.0  Iris-virginica\n",
            "123           6.3          2.7           4.9          1.8  Iris-virginica\n",
            "124           6.7          3.3           5.7          2.1  Iris-virginica\n",
            "125           7.2          3.2           6.0          1.8  Iris-virginica\n",
            "126           6.2          2.8           4.8          1.8  Iris-virginica\n",
            "127           6.1          3.0           4.9          1.8  Iris-virginica\n",
            "128           6.4          2.8           5.6          2.1  Iris-virginica\n",
            "129           7.2          3.0           5.8          1.6  Iris-virginica\n",
            "130           7.4          2.8           6.1          1.9  Iris-virginica\n",
            "131           7.9          3.8           6.4          2.0  Iris-virginica\n",
            "132           6.4          2.8           5.6          2.2  Iris-virginica\n",
            "133           6.3          2.8           5.1          1.5  Iris-virginica\n",
            "134           6.1          2.6           5.6          1.4  Iris-virginica\n",
            "135           7.7          3.0           6.1          2.3  Iris-virginica\n",
            "136           6.3          3.4           5.6          2.4  Iris-virginica\n",
            "137           6.4          3.1           5.5          1.8  Iris-virginica\n",
            "138           6.0          3.0           4.8          1.8  Iris-virginica\n",
            "139           6.9          3.1           5.4          2.1  Iris-virginica\n",
            "140           6.7          3.1           5.6          2.4  Iris-virginica\n",
            "141           6.9          3.1           5.1          2.3  Iris-virginica\n",
            "142           5.8          2.7           5.1          1.9  Iris-virginica\n",
            "143           6.8          3.2           5.9          2.3  Iris-virginica\n",
            "144           6.7          3.3           5.7          2.5  Iris-virginica\n",
            "145           6.7          3.0           5.2          2.3  Iris-virginica\n",
            "146           6.3          2.5           5.0          1.9  Iris-virginica\n",
            "147           6.5          3.0           5.2          2.0  Iris-virginica\n",
            "148           6.2          3.4           5.4          2.3  Iris-virginica\n",
            "149           5.9          3.0           5.1          1.8  Iris-virginica\n",
            "\n",
            "[150 rows x 5 columns]\n"
          ],
          "name": "stdout"
        }
      ]
    },
    {
      "cell_type": "code",
      "metadata": {
        "id": "FvFPNCvgiTXf",
        "colab_type": "code",
        "outputId": "16e88862-146a-4ff7-e2f2-045bf26a24c8",
        "colab": {
          "base_uri": "https://localhost:8080/",
          "height": 131
        }
      },
      "source": [
        "data.dtypes"
      ],
      "execution_count": 0,
      "outputs": [
        {
          "output_type": "execute_result",
          "data": {
            "text/plain": [
              "sepal_length    float64\n",
              "sepal_width     float64\n",
              "petal_length    float64\n",
              "petal_width     float64\n",
              "class            object\n",
              "dtype: object"
            ]
          },
          "metadata": {
            "tags": []
          },
          "execution_count": 10
        }
      ]
    },
    {
      "cell_type": "code",
      "metadata": {
        "id": "xWJ_QDDiiWr8",
        "colab_type": "code",
        "outputId": "469fadfc-1313-4b41-be05-a3fe51d51fd5",
        "colab": {
          "base_uri": "https://localhost:8080/",
          "height": 131
        }
      },
      "source": [
        "data.isnull().sum()"
      ],
      "execution_count": 0,
      "outputs": [
        {
          "output_type": "execute_result",
          "data": {
            "text/plain": [
              "sepal_length    0\n",
              "sepal_width     0\n",
              "petal_length    0\n",
              "petal_width     0\n",
              "class           0\n",
              "dtype: int64"
            ]
          },
          "metadata": {
            "tags": []
          },
          "execution_count": 11
        }
      ]
    },
    {
      "cell_type": "code",
      "metadata": {
        "id": "jsusyrtZjOir",
        "colab_type": "code",
        "colab": {}
      },
      "source": [
        ""
      ],
      "execution_count": 0,
      "outputs": []
    }
  ]
}